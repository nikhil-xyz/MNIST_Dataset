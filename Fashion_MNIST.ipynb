{
  "nbformat": 4,
  "nbformat_minor": 0,
  "metadata": {
    "colab": {
      "provenance": [],
      "authorship_tag": "ABX9TyNRQ/KCgx6HWN3la2kjF7QQ",
      "include_colab_link": true
    },
    "kernelspec": {
      "name": "python3",
      "display_name": "Python 3"
    },
    "language_info": {
      "name": "python"
    },
    "accelerator": "GPU",
    "gpuClass": "standard"
  },
  "cells": [
    {
      "cell_type": "markdown",
      "metadata": {
        "id": "view-in-github",
        "colab_type": "text"
      },
      "source": [
        "<a href=\"https://colab.research.google.com/github/nikhil-xyz/MNIST_Dataset/blob/main/Fashion_MNIST.ipynb\" target=\"_parent\"><img src=\"https://colab.research.google.com/assets/colab-badge.svg\" alt=\"Open In Colab\"/></a>"
      ]
    },
    {
      "cell_type": "code",
      "source": [
        "import tensorflow as tf\n",
        "import numpy as np\n",
        "import matplotlib.pyplot as plt\n",
        "import tensorflow_datasets as tfds"
      ],
      "metadata": {
        "id": "SzogxQHEHeXI"
      },
      "execution_count": 71,
      "outputs": []
    },
    {
      "cell_type": "code",
      "source": [
        "data = tfds.load('fashion_mnist', split='train')"
      ],
      "metadata": {
        "id": "nA8DldYYH5oR"
      },
      "execution_count": 72,
      "outputs": []
    },
    {
      "cell_type": "code",
      "source": [
        "iter = data.as_numpy_iterator()"
      ],
      "metadata": {
        "id": "m_TTYHl1Q9X0"
      },
      "execution_count": 76,
      "outputs": []
    },
    {
      "cell_type": "code",
      "source": [
        "iter.next().keys()"
      ],
      "metadata": {
        "id": "G3rY1CuxRkpT",
        "outputId": "96201a1b-9290-4dd9-8485-b1ec52131135",
        "colab": {
          "base_uri": "https://localhost:8080/"
        }
      },
      "execution_count": 74,
      "outputs": [
        {
          "output_type": "execute_result",
          "data": {
            "text/plain": [
              "dict_keys(['image', 'label'])"
            ]
          },
          "metadata": {},
          "execution_count": 74
        }
      ]
    },
    {
      "cell_type": "code",
      "source": [
        "fig, ax = plt.subplots(ncols=4, figsize=(20,20))\n",
        "for idx in range(4):\n",
        "  batch = iter.next()\n",
        "  ax[idx].imshow(np.squeeze(batch['image']))\n",
        "  ax[idx].title.set_text(batch['label'])"
      ],
      "metadata": {
        "id": "zLUJKtuONA4z",
        "outputId": "e958155f-adfb-46fc-a4ab-bce5d04d8317",
        "colab": {
          "base_uri": "https://localhost:8080/",
          "height": 307
        }
      },
      "execution_count": 27,
      "outputs": [
        {
          "output_type": "display_data",
          "data": {
            "text/plain": [
              "<Figure size 1440x1440 with 4 Axes>"
            ],
            "image/png": "[encoded data removed]"
          },
          "metadata": {
            "needs_background": "light"
          }
        }
      ]
    },
    {
      "cell_type": "code",
      "source": [
        "X, y = [], []\n",
        "for i in range(len(data)):\n",
        "  batch = iter.next()\n",
        "  X.append(batch['image'])\n",
        "  y.append(batch['label'])"
      ],
      "metadata": {
        "id": "txG9I0uSRfNi"
      },
      "execution_count": 77,
      "outputs": []
    },
    {
      "cell_type": "code",
      "source": [
        "data = tf.data.Dataset.from_tensor_slices((X, y))\n",
        "data = data.cache()\n",
        "data = data.shuffle(60000)\n",
        "data = data.batch(128)\n",
        "data = data.prefetch(64)"
      ],
      "metadata": {
        "id": "LmU5CRYRVk5a"
      },
      "execution_count": 79,
      "outputs": []
    },
    {
      "cell_type": "code",
      "source": [
        "train = data.take(int(len(data)*0.7))\n",
        "val = data.skip(int(len(data)*0.7)).take(int(len(data)*0.2))\n",
        "test = data.skip(int(len(data)*0.9)).take(int(len(data)*0.1))"
      ],
      "metadata": {
        "id": "9p0HsspC9SsG"
      },
      "execution_count": 122,
      "outputs": []
    },
    {
      "cell_type": "code",
      "source": [
        "from tensorflow.keras.models import Sequential\n",
        "from tensorflow.keras.layers import Conv2D, Flatten, LeakyReLU, Dense, Reshape, Dropout, MaxPooling2D"
      ],
      "metadata": {
        "id": "2BKZdo5xWV4L"
      },
      "execution_count": 123,
      "outputs": []
    },
    {
      "cell_type": "code",
      "source": [
        "model = Sequential()\n",
        "model.add(Conv2D(64, 3, padding='same', activation='relu', input_shape = (28, 28, 1)))\n",
        "model.add(MaxPooling2D())\n",
        "\n",
        "model.add(Conv2D(128, 3, padding='same', activation='relu'))\n",
        "model.add(MaxPooling2D())\n",
        "\n",
        "model.add(Conv2D(64, 3, padding='same', activation='relu'))\n",
        "model.add(MaxPooling2D())\n",
        "\n",
        "model.add(Flatten())\n",
        "model.add(Dense(128, activation='relu'))\n",
        "model.add(Dense(64, activation='relu'))\n",
        "model.add(Dense(10, activation='sigmoid'))"
      ],
      "metadata": {
        "id": "iTQK_5Hci5eF"
      },
      "execution_count": 124,
      "outputs": []
    },
    {
      "cell_type": "code",
      "source": [
        "model.compile(loss='sparse_categorical_crossentropy', optimizer='adam', metrics=['accuracy'])"
      ],
      "metadata": {
        "id": "s9fnXgDm_yy-"
      },
      "execution_count": 125,
      "outputs": []
    },
    {
      "cell_type": "code",
      "source": [
        "history = model.fit(train, epochs=5, validation_data=val)"
      ],
      "metadata": {
        "id": "F2mdQZNY_fMR",
        "outputId": "b0f161a9-dfa8-4c63-af51-b443c9291278",
        "colab": {
          "base_uri": "https://localhost:8080/"
        }
      },
      "execution_count": 126,
      "outputs": [
        {
          "output_type": "stream",
          "name": "stdout",
          "text": [
            "Epoch 1/5\n",
            "328/328 [==============================] - 178s 542ms/step - loss: 0.8094 - accuracy: 0.7808 - val_loss: 0.3847 - val_accuracy: 0.8639\n",
            "Epoch 2/5\n",
            "328/328 [==============================] - 176s 535ms/step - loss: 0.3741 - accuracy: 0.8652 - val_loss: 0.3264 - val_accuracy: 0.8787\n",
            "Epoch 3/5\n",
            "328/328 [==============================] - 175s 534ms/step - loss: 0.3252 - accuracy: 0.8813 - val_loss: 0.2812 - val_accuracy: 0.8955\n",
            "Epoch 4/5\n",
            "328/328 [==============================] - 174s 530ms/step - loss: 0.2933 - accuracy: 0.8929 - val_loss: 0.2665 - val_accuracy: 0.9027\n",
            "Epoch 5/5\n",
            "328/328 [==============================] - 175s 533ms/step - loss: 0.2695 - accuracy: 0.9020 - val_loss: 0.2381 - val_accuracy: 0.9114\n"
          ]
        }
      ]
    },
    {
      "cell_type": "code",
      "source": [
        "model.predict(test)"
      ],
      "metadata": {
        "id": "F-rR5l-W_vF6",
        "outputId": "f726659b-9b43-46c8-d4ad-8d4019c6b2f8",
        "colab": {
          "base_uri": "https://localhost:8080/"
        }
      },
      "execution_count": 127,
      "outputs": [
        {
          "output_type": "stream",
          "name": "stdout",
          "text": [
            "46/46 [==============================] - 6s 118ms/step\n"
          ]
        },
        {
          "output_type": "execute_result",
          "data": {
            "text/plain": [
              "array([[9.9348634e-01, 1.4049433e-01, 5.3846335e-01, ..., 6.4342812e-02,\n",
              "        8.1297822e-02, 6.1606863e-03],\n",
              "       [7.6830024e-01, 1.5490520e-01, 8.6723244e-01, ..., 1.0936652e-02,\n",
              "        5.8092362e-01, 1.2825441e-01],\n",
              "       [5.6649822e-01, 1.0015842e-05, 1.4972909e-02, ..., 9.9995208e-01,\n",
              "        1.0108612e-02, 9.9657339e-01],\n",
              "       ...,\n",
              "       [7.9618973e-01, 9.4789927e-09, 5.1583117e-03, ..., 6.7671299e-01,\n",
              "        4.1264734e-01, 8.0322903e-01],\n",
              "       [7.5076485e-01, 4.4855729e-02, 9.9443102e-01, ..., 6.3739331e-03,\n",
              "        3.3312149e-02, 1.2206862e-01],\n",
              "       [9.9349225e-01, 2.5002826e-03, 3.8172933e-01, ..., 5.1981203e-02,\n",
              "        1.0395910e-01, 2.3941947e-02]], dtype=float32)"
            ]
          },
          "metadata": {},
          "execution_count": 127
        }
      ]
    },
    {
      "cell_type": "code",
      "source": [
        "from tensorflow.keras.metrics import Precision, Recall, SparseCategoricalAccuracy\n",
        "pre = Precision()\n",
        "re = Recall()\n",
        "acc = CategoricalAccuracy()"
      ],
      "metadata": {
        "id": "zjxvIVZxD9H4"
      },
      "execution_count": 130,
      "outputs": []
    },
    {
      "cell_type": "code",
      "source": [
        "for batch in test.as_numpy_iterator():\n",
        "  X_true, y_true = batch\n",
        "  yhat = model.predict(X_true)\n",
        "  yhat = [np.argmax(y) for y in yhat]\n",
        "  yhat = np.array(yhat)\n",
        "  y_true = y_true.flatten()\n",
        "  yhat = yhat.flatten()\n",
        "  acc.update_state(y_true, yhat)\n",
        "print(acc.result().numpy())"
      ],
      "metadata": {
        "id": "yG5ga2sFQN-O",
        "outputId": "54b5747b-6f9c-44d1-9b37-34dadd314239",
        "colab": {
          "base_uri": "https://localhost:8080/"
        }
      },
      "execution_count": 131,
      "outputs": [
        {
          "output_type": "stream",
          "name": "stdout",
          "text": [
            "4/4 [==============================] - 0s 33ms/step\n",
            "4/4 [==============================] - 0s 31ms/step\n",
            "4/4 [==============================] - 0s 33ms/step\n",
            "4/4 [==============================] - 0s 33ms/step\n",
            "4/4 [==============================] - 0s 32ms/step\n",
            "4/4 [==============================] - 0s 31ms/step\n",
            "4/4 [==============================] - 0s 36ms/step\n",
            "4/4 [==============================] - 0s 33ms/step\n",
            "4/4 [==============================] - 0s 31ms/step\n",
            "4/4 [==============================] - 0s 37ms/step\n",
            "4/4 [==============================] - 0s 31ms/step\n",
            "4/4 [==============================] - 0s 32ms/step\n",
            "4/4 [==============================] - 0s 31ms/step\n",
            "4/4 [==============================] - 0s 34ms/step\n",
            "4/4 [==============================] - 0s 40ms/step\n",
            "4/4 [==============================] - 0s 33ms/step\n",
            "4/4 [==============================] - 0s 31ms/step\n",
            "4/4 [==============================] - 0s 32ms/step\n",
            "4/4 [==============================] - 0s 31ms/step\n",
            "4/4 [==============================] - 0s 31ms/step\n",
            "4/4 [==============================] - 0s 35ms/step\n",
            "4/4 [==============================] - 0s 32ms/step\n",
            "4/4 [==============================] - 0s 32ms/step\n",
            "4/4 [==============================] - 0s 31ms/step\n",
            "4/4 [==============================] - 0s 39ms/step\n",
            "4/4 [==============================] - 0s 31ms/step\n",
            "4/4 [==============================] - 0s 33ms/step\n",
            "4/4 [==============================] - 0s 32ms/step\n",
            "4/4 [==============================] - 0s 32ms/step\n",
            "4/4 [==============================] - 0s 37ms/step\n",
            "4/4 [==============================] - 0s 33ms/step\n",
            "4/4 [==============================] - 0s 32ms/step\n",
            "4/4 [==============================] - 0s 33ms/step\n",
            "4/4 [==============================] - 0s 33ms/step\n",
            "4/4 [==============================] - 0s 32ms/step\n",
            "4/4 [==============================] - 0s 32ms/step\n",
            "4/4 [==============================] - 0s 31ms/step\n",
            "4/4 [==============================] - 0s 33ms/step\n",
            "4/4 [==============================] - 0s 32ms/step\n",
            "4/4 [==============================] - 0s 37ms/step\n",
            "4/4 [==============================] - 0s 32ms/step\n",
            "4/4 [==============================] - 0s 32ms/step\n",
            "4/4 [==============================] - 0s 32ms/step\n",
            "4/4 [==============================] - 0s 32ms/step\n",
            "4/4 [==============================] - 0s 32ms/step\n",
            "4/4 [==============================] - 0s 32ms/step\n",
            "0.95652175\n"
          ]
        }
      ]
    },
    {
      "cell_type": "code",
      "source": [
        "print(acc.result().numpy())"
      ],
      "metadata": {
        "id": "9pOZNA_4ELT_",
        "outputId": "e5d79345-d808-40f6-d130-dffcd5ea8898",
        "colab": {
          "base_uri": "https://localhost:8080/"
        }
      },
      "execution_count": 132,
      "outputs": [
        {
          "output_type": "stream",
          "name": "stdout",
          "text": [
            "0.95652175\n"
          ]
        }
      ]
    },
    {
      "cell_type": "code",
      "source": [],
      "metadata": {
        "id": "KUW95NUpLhYP"
      },
      "execution_count": null,
      "outputs": []
    }
  ]
}