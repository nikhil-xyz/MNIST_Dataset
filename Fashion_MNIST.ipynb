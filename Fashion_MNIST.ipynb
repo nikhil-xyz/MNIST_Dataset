{
  "nbformat": 4,
  "nbformat_minor": 0,
  "metadata": {
    "colab": {
      "provenance": [],
      "authorship_tag": "ABX9TyO2O1ah9bqQH2404o/fZlh8",
      "include_colab_link": true
    },
    "kernelspec": {
      "name": "python3",
      "display_name": "Python 3"
    },
    "language_info": {
      "name": "python"
    },
    "accelerator": "GPU",
    "gpuClass": "standard"
  },
  "cells": [
    {
      "cell_type": "markdown",
      "metadata": {
        "id": "view-in-github",
        "colab_type": "text"
      },
      "source": [
        "<a href=\"https://colab.research.google.com/github/nikhil-xyz/MNIST_Dataset/blob/main/Fashion_MNIST.ipynb\" target=\"_parent\"><img src=\"https://colab.research.google.com/assets/colab-badge.svg\" alt=\"Open In Colab\"/></a>"
      ]
    },
    {
      "cell_type": "code",
      "source": [
        "import tensorflow as tf\n",
        "import numpy as np\n",
        "import matplotlib.pyplot as plt\n",
        "import tensorflow_datasets as tfds"
      ],
      "metadata": {
        "id": "SzogxQHEHeXI"
      },
      "execution_count": 1,
      "outputs": []
    },
    {
      "cell_type": "code",
      "source": [
        "import cv2"
      ],
      "metadata": {
        "id": "mY07Ad1_L2ic"
      },
      "execution_count": 2,
      "outputs": []
    },
    {
      "cell_type": "code",
      "source": [
        "data = tfds.load('fashion_mnist', split='train')"
      ],
      "metadata": {
        "id": "nA8DldYYH5oR"
      },
      "execution_count": 3,
      "outputs": []
    },
    {
      "cell_type": "code",
      "source": [
        "print(type(data))"
      ],
      "metadata": {
        "id": "qZmOMXgfB3-A",
        "outputId": "8ea92dba-466a-490e-b92a-ac6ff76be922",
        "colab": {
          "base_uri": "https://localhost:8080/"
        }
      },
      "execution_count": 4,
      "outputs": [
        {
          "output_type": "stream",
          "name": "stdout",
          "text": [
            "<class 'tensorflow.python.data.ops.dataset_ops.PrefetchDataset'>\n"
          ]
        }
      ]
    },
    {
      "cell_type": "code",
      "source": [
        "print(len(data))"
      ],
      "metadata": {
        "id": "G3rY1CuxRkpT",
        "outputId": "b6629e95-4f25-43ff-a01a-ba97e921a687",
        "colab": {
          "base_uri": "https://localhost:8080/"
        }
      },
      "execution_count": 5,
      "outputs": [
        {
          "output_type": "stream",
          "name": "stdout",
          "text": [
            "60000\n"
          ]
        }
      ]
    },
    {
      "cell_type": "code",
      "source": [
        "iter = data.as_numpy_iterator()"
      ],
      "metadata": {
        "id": "1RJBv0JbBqkA"
      },
      "execution_count": 6,
      "outputs": []
    },
    {
      "cell_type": "code",
      "source": [
        "print(iter.next().keys())"
      ],
      "metadata": {
        "id": "U-vC9epHIG-8",
        "outputId": "06ed7011-f122-4b5e-d656-901d3a6e68a6",
        "colab": {
          "base_uri": "https://localhost:8080/"
        }
      },
      "execution_count": 7,
      "outputs": [
        {
          "output_type": "stream",
          "name": "stdout",
          "text": [
            "dict_keys(['image', 'label'])\n"
          ]
        }
      ]
    },
    {
      "cell_type": "code",
      "source": [
        "classes = ['T-shirt/Top', 'Trouser', 'Pullover', 'Dress', 'Coat', 'Sandal', 'Shirt', 'Sneaker', 'Bag', 'Ankle boot']"
      ],
      "metadata": {
        "id": "Pfw2zMFgLL-P"
      },
      "execution_count": 8,
      "outputs": []
    },
    {
      "cell_type": "code",
      "source": [
        "fig, ax = plt.subplots(ncols=4, figsize=(20,20))\n",
        "for idx in range(4):\n",
        "  batch = iter.next()\n",
        "  ax[idx].imshow(np.squeeze(cv2.cvtColor(batch['image'], cv2.COLOR_BGR2RGB)))\n",
        "  ax[idx].title.set_text(classes[batch['label']])"
      ],
      "metadata": {
        "id": "zLUJKtuONA4z",
        "outputId": "054112fe-876e-4175-b558-602166cc8542",
        "colab": {
          "base_uri": "https://localhost:8080/",
          "height": 263
        }
      },
      "execution_count": 9,
      "outputs": [
        {
          "output_type": "display_data",
          "data": {
            "text/plain": [
              "<Figure size 1440x1440 with 4 Axes>"
            ],
            "image/png": "[encoded data removed]"
          },
          "metadata": {
            "needs_background": "light"
          }
        }
      ]
    },
    {
      "cell_type": "code",
      "source": [
        "iter = data.as_numpy_iterator()\n",
        "X, y = [], []\n",
        "for i in range(len(data)):\n",
        "  batch = iter.next()\n",
        "  X.append(batch['image'])\n",
        "  y.append(batch['label'])"
      ],
      "metadata": {
        "id": "txG9I0uSRfNi"
      },
      "execution_count": 10,
      "outputs": []
    },
    {
      "cell_type": "code",
      "source": [
        "X = np.array(X)\n",
        "X = X / 255"
      ],
      "metadata": {
        "id": "8xd1xHSsVh_5"
      },
      "execution_count": 11,
      "outputs": []
    },
    {
      "cell_type": "code",
      "source": [
        "data = tf.data.Dataset.from_tensor_slices((X, y))\n",
        "data = data.cache()\n",
        "data = data.shuffle(60000)\n",
        "data = data.batch(128)\n",
        "data = data.prefetch(64)"
      ],
      "metadata": {
        "id": "LmU5CRYRVk5a"
      },
      "execution_count": 12,
      "outputs": []
    },
    {
      "cell_type": "code",
      "source": [
        "train = data.take(int(len(data)*0.7))\n",
        "val = data.skip(int(len(data)*0.7)).take(int(len(data)*0.2))\n",
        "test = data.skip(int(len(data)*0.9)).take(int(len(data)*0.1))"
      ],
      "metadata": {
        "id": "9p0HsspC9SsG"
      },
      "execution_count": 13,
      "outputs": []
    },
    {
      "cell_type": "code",
      "source": [
        "from tensorflow.keras.models import Sequential\n",
        "from tensorflow.keras.layers import Conv2D, Flatten, LeakyReLU, Dense, Reshape, Dropout, MaxPooling2D"
      ],
      "metadata": {
        "id": "2BKZdo5xWV4L"
      },
      "execution_count": 14,
      "outputs": []
    },
    {
      "cell_type": "code",
      "source": [
        "model = Sequential()\n",
        "model.add(Conv2D(16, (3, 3), padding='same', activation='relu', input_shape = (28, 28, 1)))\n",
        "model.add(MaxPooling2D())\n",
        "\n",
        "model.add(Conv2D(28, (3, 3), padding='same', activation='relu'))\n",
        "model.add(MaxPooling2D())\n",
        "\n",
        "model.add(Conv2D(16, (3, 3), padding='same', activation='relu'))\n",
        "model.add(MaxPooling2D())\n",
        "\n",
        "model.add(Conv2D(8, (3, 3), padding='same', activation='relu'))\n",
        "model.add(MaxPooling2D())\n",
        "\n",
        "model.add(Flatten())\n",
        "model.add(Dense(64, activation='relu'))\n",
        "model.add(Dense(128, activation='relu'))\n",
        "model.add(Dense(64, activation='relu'))\n",
        "model.add(Dense(10, activation='sigmoid'))"
      ],
      "metadata": {
        "id": "iTQK_5Hci5eF"
      },
      "execution_count": 15,
      "outputs": []
    },
    {
      "cell_type": "code",
      "source": [
        "model.summary()"
      ],
      "metadata": {
        "id": "vgmaBd8JO6R-",
        "outputId": "fde67fb3-3936-4e9b-c223-f8b5693ddd3b",
        "colab": {
          "base_uri": "https://localhost:8080/"
        }
      },
      "execution_count": 16,
      "outputs": [
        {
          "output_type": "stream",
          "name": "stdout",
          "text": [
            "Model: \"sequential\"\n",
            "_________________________________________________________________\n",
            " Layer (type)                Output Shape              Param #   \n",
            "=================================================================\n",
            " conv2d (Conv2D)             (None, 28, 28, 16)        160       \n",
            "                                                                 \n",
            " max_pooling2d (MaxPooling2D  (None, 14, 14, 16)       0         \n",
            " )                                                               \n",
            "                                                                 \n",
            " conv2d_1 (Conv2D)           (None, 14, 14, 28)        4060      \n",
            "                                                                 \n",
            " max_pooling2d_1 (MaxPooling  (None, 7, 7, 28)         0         \n",
            " 2D)                                                             \n",
            "                                                                 \n",
            " conv2d_2 (Conv2D)           (None, 7, 7, 16)          4048      \n",
            "                                                                 \n",
            " max_pooling2d_2 (MaxPooling  (None, 3, 3, 16)         0         \n",
            " 2D)                                                             \n",
            "                                                                 \n",
            " conv2d_3 (Conv2D)           (None, 3, 3, 8)           1160      \n",
            "                                                                 \n",
            " max_pooling2d_3 (MaxPooling  (None, 1, 1, 8)          0         \n",
            " 2D)                                                             \n",
            "                                                                 \n",
            " flatten (Flatten)           (None, 8)                 0         \n",
            "                                                                 \n",
            " dense (Dense)               (None, 64)                576       \n",
            "                                                                 \n",
            " dense_1 (Dense)             (None, 128)               8320      \n",
            "                                                                 \n",
            " dense_2 (Dense)             (None, 64)                8256      \n",
            "                                                                 \n",
            " dense_3 (Dense)             (None, 10)                650       \n",
            "                                                                 \n",
            "=================================================================\n",
            "Total params: 27,230\n",
            "Trainable params: 27,230\n",
            "Non-trainable params: 0\n",
            "_________________________________________________________________\n"
          ]
        }
      ]
    },
    {
      "cell_type": "code",
      "source": [
        "model.compile(loss='sparse_categorical_crossentropy', optimizer='adam', metrics=['accuracy'])"
      ],
      "metadata": {
        "id": "s9fnXgDm_yy-"
      },
      "execution_count": 17,
      "outputs": []
    },
    {
      "cell_type": "code",
      "source": [
        "history = model.fit(train, epochs=20, validation_data=val)"
      ],
      "metadata": {
        "id": "F2mdQZNY_fMR",
        "outputId": "c5086516-d4b8-4d98-d099-b25bc81d44fe",
        "colab": {
          "base_uri": "https://localhost:8080/"
        }
      },
      "execution_count": 18,
      "outputs": [
        {
          "output_type": "stream",
          "name": "stdout",
          "text": [
            "Epoch 1/20\n",
            "328/328 [==============================] - 5s 7ms/step - loss: 0.8768 - accuracy: 0.6679 - val_loss: 0.6057 - val_accuracy: 0.7723\n",
            "Epoch 2/20\n",
            "328/328 [==============================] - 2s 6ms/step - loss: 0.5357 - accuracy: 0.8013 - val_loss: 0.4871 - val_accuracy: 0.8228\n",
            "Epoch 3/20\n",
            "328/328 [==============================] - 2s 6ms/step - loss: 0.4623 - accuracy: 0.8310 - val_loss: 0.4120 - val_accuracy: 0.8522\n",
            "Epoch 4/20\n",
            "328/328 [==============================] - 2s 6ms/step - loss: 0.4166 - accuracy: 0.8468 - val_loss: 0.4148 - val_accuracy: 0.8515\n",
            "Epoch 5/20\n",
            "328/328 [==============================] - 2s 6ms/step - loss: 0.3855 - accuracy: 0.8586 - val_loss: 0.3576 - val_accuracy: 0.8678\n",
            "Epoch 6/20\n",
            "328/328 [==============================] - 2s 6ms/step - loss: 0.3597 - accuracy: 0.8697 - val_loss: 0.3403 - val_accuracy: 0.8775\n",
            "Epoch 7/20\n",
            "328/328 [==============================] - 2s 6ms/step - loss: 0.3448 - accuracy: 0.8748 - val_loss: 0.3302 - val_accuracy: 0.8755\n",
            "Epoch 8/20\n",
            "328/328 [==============================] - 2s 6ms/step - loss: 0.3326 - accuracy: 0.8792 - val_loss: 0.3366 - val_accuracy: 0.8787\n",
            "Epoch 9/20\n",
            "328/328 [==============================] - 2s 7ms/step - loss: 0.3218 - accuracy: 0.8827 - val_loss: 0.3091 - val_accuracy: 0.8883\n",
            "Epoch 10/20\n",
            "328/328 [==============================] - 2s 6ms/step - loss: 0.3074 - accuracy: 0.8879 - val_loss: 0.2886 - val_accuracy: 0.8965\n",
            "Epoch 11/20\n",
            "328/328 [==============================] - 2s 6ms/step - loss: 0.3001 - accuracy: 0.8878 - val_loss: 0.2898 - val_accuracy: 0.8952\n",
            "Epoch 12/20\n",
            "328/328 [==============================] - 2s 6ms/step - loss: 0.2971 - accuracy: 0.8896 - val_loss: 0.2849 - val_accuracy: 0.8999\n",
            "Epoch 13/20\n",
            "328/328 [==============================] - 2s 6ms/step - loss: 0.2872 - accuracy: 0.8949 - val_loss: 0.2950 - val_accuracy: 0.8904\n",
            "Epoch 14/20\n",
            "328/328 [==============================] - 2s 6ms/step - loss: 0.2859 - accuracy: 0.8947 - val_loss: 0.2821 - val_accuracy: 0.8950\n",
            "Epoch 15/20\n",
            "328/328 [==============================] - 2s 6ms/step - loss: 0.2775 - accuracy: 0.8976 - val_loss: 0.2494 - val_accuracy: 0.9101\n",
            "Epoch 16/20\n",
            "328/328 [==============================] - 2s 6ms/step - loss: 0.2709 - accuracy: 0.9001 - val_loss: 0.2706 - val_accuracy: 0.9027\n",
            "Epoch 17/20\n",
            "328/328 [==============================] - 2s 6ms/step - loss: 0.2665 - accuracy: 0.9021 - val_loss: 0.2665 - val_accuracy: 0.9068\n",
            "Epoch 18/20\n",
            "328/328 [==============================] - 2s 6ms/step - loss: 0.2615 - accuracy: 0.9032 - val_loss: 0.2372 - val_accuracy: 0.9127\n",
            "Epoch 19/20\n",
            "328/328 [==============================] - 2s 6ms/step - loss: 0.2542 - accuracy: 0.9073 - val_loss: 0.2535 - val_accuracy: 0.9077\n",
            "Epoch 20/20\n",
            "328/328 [==============================] - 2s 6ms/step - loss: 0.2505 - accuracy: 0.9072 - val_loss: 0.2546 - val_accuracy: 0.9073\n"
          ]
        }
      ]
    },
    {
      "cell_type": "code",
      "source": [
        "model.evaluate(test)"
      ],
      "metadata": {
        "id": "F-rR5l-W_vF6",
        "outputId": "e795481a-2325-482d-c1cb-ddc55e08b816",
        "colab": {
          "base_uri": "https://localhost:8080/"
        }
      },
      "execution_count": 19,
      "outputs": [
        {
          "output_type": "stream",
          "name": "stdout",
          "text": [
            "46/46 [==============================] - 1s 3ms/step - loss: 0.2593 - accuracy: 0.9056\n"
          ]
        },
        {
          "output_type": "execute_result",
          "data": {
            "text/plain": [
              "[0.259306401014328, 0.9055706262588501]"
            ]
          },
          "metadata": {},
          "execution_count": 19
        }
      ]
    },
    {
      "cell_type": "code",
      "source": [
        "from tensorflow.keras.metrics import Precision, Recall, CategoricalAccuracy\n",
        "pre = Precision()\n",
        "re = Recall()\n",
        "acc = CategoricalAccuracy()"
      ],
      "metadata": {
        "id": "zjxvIVZxD9H4"
      },
      "execution_count": 20,
      "outputs": []
    },
    {
      "cell_type": "code",
      "source": [
        "for batch in test.as_numpy_iterator():\n",
        "  X_true, y_true = batch\n",
        "  yhat = model.predict(X_true)\n",
        "  yhat = [np.argmax(y) for y in yhat]\n",
        "  yhat = np.array(yhat)\n",
        "  y_true = y_true.flatten()\n",
        "  yhat = yhat.flatten()\n",
        "  acc.update_state(y_true, yhat)\n",
        "print(acc.result().numpy())"
      ],
      "metadata": {
        "id": "yG5ga2sFQN-O",
        "outputId": "fe2c4496-369e-4baa-ab14-84fcc2244156",
        "colab": {
          "base_uri": "https://localhost:8080/"
        }
      },
      "execution_count": 21,
      "outputs": [
        {
          "output_type": "stream",
          "name": "stdout",
          "text": [
            "4/4 [==============================] - 0s 7ms/step\n",
            "4/4 [==============================] - 0s 3ms/step\n",
            "4/4 [==============================] - 0s 3ms/step\n",
            "4/4 [==============================] - 0s 3ms/step\n",
            "4/4 [==============================] - 0s 5ms/step\n",
            "4/4 [==============================] - 0s 3ms/step\n",
            "4/4 [==============================] - 0s 3ms/step\n",
            "4/4 [==============================] - 0s 3ms/step\n",
            "4/4 [==============================] - 0s 3ms/step\n",
            "4/4 [==============================] - 0s 3ms/step\n",
            "4/4 [==============================] - 0s 3ms/step\n",
            "4/4 [==============================] - 0s 3ms/step\n",
            "4/4 [==============================] - 0s 3ms/step\n",
            "4/4 [==============================] - 0s 3ms/step\n",
            "4/4 [==============================] - 0s 3ms/step\n",
            "4/4 [==============================] - 0s 3ms/step\n",
            "4/4 [==============================] - 0s 3ms/step\n",
            "4/4 [==============================] - 0s 3ms/step\n",
            "4/4 [==============================] - 0s 4ms/step\n",
            "4/4 [==============================] - 0s 3ms/step\n",
            "4/4 [==============================] - 0s 3ms/step\n",
            "4/4 [==============================] - 0s 3ms/step\n",
            "4/4 [==============================] - 0s 3ms/step\n",
            "4/4 [==============================] - 0s 3ms/step\n",
            "4/4 [==============================] - 0s 3ms/step\n",
            "4/4 [==============================] - 0s 3ms/step\n",
            "4/4 [==============================] - 0s 3ms/step\n",
            "4/4 [==============================] - 0s 3ms/step\n",
            "4/4 [==============================] - 0s 3ms/step\n",
            "4/4 [==============================] - 0s 3ms/step\n",
            "4/4 [==============================] - 0s 3ms/step\n",
            "4/4 [==============================] - 0s 3ms/step\n",
            "4/4 [==============================] - 0s 3ms/step\n",
            "4/4 [==============================] - 0s 3ms/step\n",
            "4/4 [==============================] - 0s 3ms/step\n",
            "4/4 [==============================] - 0s 3ms/step\n",
            "4/4 [==============================] - 0s 3ms/step\n",
            "4/4 [==============================] - 0s 3ms/step\n",
            "4/4 [==============================] - 0s 3ms/step\n",
            "4/4 [==============================] - 0s 3ms/step\n",
            "4/4 [==============================] - 0s 3ms/step\n",
            "4/4 [==============================] - 0s 5ms/step\n",
            "4/4 [==============================] - 0s 3ms/step\n",
            "4/4 [==============================] - 0s 3ms/step\n",
            "4/4 [==============================] - 0s 6ms/step\n",
            "4/4 [==============================] - 0s 3ms/step\n",
            "0.9130435\n"
          ]
        }
      ]
    },
    {
      "cell_type": "code",
      "source": [
        "print(acc.result().numpy())"
      ],
      "metadata": {
        "id": "9pOZNA_4ELT_",
        "outputId": "d585d0ad-e022-4820-f6c0-40274e716937",
        "colab": {
          "base_uri": "https://localhost:8080/"
        }
      },
      "execution_count": 22,
      "outputs": [
        {
          "output_type": "stream",
          "name": "stdout",
          "text": [
            "0.9130435\n"
          ]
        }
      ]
    },
    {
      "cell_type": "code",
      "source": [
        "img = cv2.imread('/content/trouser.jpg')\n",
        "img = cv2.resize(img, (28,28))\n",
        "plt.imshow(img)\n",
        "img = cv2.cvtColor(img, cv2.COLOR_BGR2BGRA)\n",
        "print(img.shape)\n",
        "# print(img)\n",
        "img = img/255\n",
        "# print(img)\n",
        "# img = np.array(img)\n",
        "# img = img / 255\n",
        "img = np.expand_dims(img, 0)\n",
        "print(img.shape)\n",
        "result = model.predict(img)"
      ],
      "metadata": {
        "id": "KUW95NUpLhYP",
        "outputId": "689c409c-e306-41e1-f6d1-2d180dc4005d",
        "colab": {
          "base_uri": "https://localhost:8080/",
          "height": 317
        }
      },
      "execution_count": 49,
      "outputs": [
        {
          "output_type": "stream",
          "name": "stdout",
          "text": [
            "(28, 28, 4)\n",
            "(1, 28, 28, 4)\n",
            "1/1 [==============================] - 0s 17ms/step\n"
          ]
        },
        {
          "output_type": "display_data",
          "data": {
            "text/plain": [
              "<Figure size 432x288 with 1 Axes>"
            ],
            "image/png": "[encoded data removed]"
          },
          "metadata": {
            "needs_background": "light"
          }
        }
      ]
    },
    {
      "cell_type": "code",
      "source": [
        "print(classes[np.argmax(result)])"
      ],
      "metadata": {
        "id": "fEvozDGYR5fL",
        "outputId": "699ef28a-ec1f-4986-80bf-47cd1aa3cf8c",
        "colab": {
          "base_uri": "https://localhost:8080/"
        }
      },
      "execution_count": 50,
      "outputs": [
        {
          "output_type": "stream",
          "name": "stdout",
          "text": [
            "Trouser\n"
          ]
        }
      ]
    },
    {
      "cell_type": "code",
      "source": [],
      "metadata": {
        "id": "TscxyqwCWJEf"
      },
      "execution_count": null,
      "outputs": []
    }
  ]
}