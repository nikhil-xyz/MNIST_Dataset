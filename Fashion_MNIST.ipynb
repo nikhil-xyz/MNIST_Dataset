{
  "nbformat": 4,
  "nbformat_minor": 0,
  "metadata": {
    "colab": {
      "provenance": [],
      "authorship_tag": "ABX9TyMQv9KZhIEdm67Qkr3K7q8v",
      "include_colab_link": true
    },
    "kernelspec": {
      "name": "python3",
      "display_name": "Python 3"
    },
    "language_info": {
      "name": "python"
    }
  },
  "cells": [
    {
      "cell_type": "markdown",
      "metadata": {
        "id": "view-in-github",
        "colab_type": "text"
      },
      "source": [
        "<a href=\"https://colab.research.google.com/github/nikhil-xyz/MNIST_Dataset/blob/main/Fashion_MNIST.ipynb\" target=\"_parent\"><img src=\"https://colab.research.google.com/assets/colab-badge.svg\" alt=\"Open In Colab\"/></a>"
      ]
    },
    {
      "cell_type": "code",
      "execution_count": 1,
      "metadata": {
        "colab": {
          "base_uri": "https://localhost:8080/"
        },
        "id": "5e6q9orN0w6p",
        "outputId": "2ba60e12-133e-4420-9faa-b5100d8253cd"
      },
      "outputs": [
        {
          "output_type": "stream",
          "name": "stdout",
          "text": [
            "Cloning into 'MNIST_Dataset'...\n",
            "remote: Enumerating objects: 11, done.\u001b[K\n",
            "remote: Counting objects: 100% (11/11), done.\u001b[K\n",
            "remote: Compressing objects: 100% (8/8), done.\u001b[K\n",
            "remote: Total 11 (delta 1), reused 6 (delta 1), pack-reused 0\u001b[K\n",
            "Unpacking objects: 100% (11/11), done.\n"
          ]
        }
      ],
      "source": [
        "!git clone https://github.com/nikhil-xyz/MNIST_Dataset.git"
      ]
    },
    {
      "cell_type": "code",
      "source": [
        "import pandas as pd"
      ],
      "metadata": {
        "id": "CHd0AQ690zmm"
      },
      "execution_count": 2,
      "outputs": []
    },
    {
      "cell_type": "code",
      "source": [
        "df = pd.read_csv('/content/MNIST_Dataset/data/fashion-mnist.csv/fashion-mnist_test.csv')"
      ],
      "metadata": {
        "id": "dE7-ToMn1By4"
      },
      "execution_count": 5,
      "outputs": []
    },
    {
      "cell_type": "code",
      "source": [
        "df.shape"
      ],
      "metadata": {
        "colab": {
          "base_uri": "https://localhost:8080/"
        },
        "id": "LaSUdLP45S6I",
        "outputId": "fa347437-8486-4389-aa31-d3bc06a76ddc"
      },
      "execution_count": 11,
      "outputs": [
        {
          "output_type": "execute_result",
          "data": {
            "text/plain": [
              "(10000, 785)"
            ]
          },
          "metadata": {},
          "execution_count": 11
        }
      ]
    },
    {
      "cell_type": "code",
      "source": [
        "df.columns"
      ],
      "metadata": {
        "colab": {
          "base_uri": "https://localhost:8080/"
        },
        "id": "qRZQD8_l1Y1c",
        "outputId": "84d28838-b9b9-48f5-f71b-d21aa599bdd3"
      },
      "execution_count": 7,
      "outputs": [
        {
          "output_type": "execute_result",
          "data": {
            "text/plain": [
              "Index(['label', 'pixel1', 'pixel2', 'pixel3', 'pixel4', 'pixel5', 'pixel6',\n",
              "       'pixel7', 'pixel8', 'pixel9',\n",
              "       ...\n",
              "       'pixel775', 'pixel776', 'pixel777', 'pixel778', 'pixel779', 'pixel780',\n",
              "       'pixel781', 'pixel782', 'pixel783', 'pixel784'],\n",
              "      dtype='object', length=785)"
            ]
          },
          "metadata": {},
          "execution_count": 7
        }
      ]
    },
    {
      "cell_type": "code",
      "source": [
        "train = df['label']"
      ],
      "metadata": {
        "id": "Be0e6HXG6hmN"
      },
      "execution_count": 12,
      "outputs": []
    },
    {
      "cell_type": "code",
      "source": [
        "X = df[df.columns[1:]].values\n",
        "y = df['label']"
      ],
      "metadata": {
        "id": "KBH6ZF9j6nqK"
      },
      "execution_count": 14,
      "outputs": []
    },
    {
      "cell_type": "code",
      "source": [
        "len(y)"
      ],
      "metadata": {
        "colab": {
          "base_uri": "https://localhost:8080/"
        },
        "id": "Hckb6FwqIqsm",
        "outputId": "2a662e6d-1d58-494e-aa6c-8dc081af08e8"
      },
      "execution_count": 57,
      "outputs": [
        {
          "output_type": "execute_result",
          "data": {
            "text/plain": [
              "10000"
            ]
          },
          "metadata": {},
          "execution_count": 57
        }
      ]
    },
    {
      "cell_type": "code",
      "source": [
        "X = X / 255"
      ],
      "metadata": {
        "id": "xCfsbYcw7-r0"
      },
      "execution_count": 21,
      "outputs": []
    },
    {
      "cell_type": "code",
      "source": [
        "len(X)"
      ],
      "metadata": {
        "colab": {
          "base_uri": "https://localhost:8080/"
        },
        "id": "Q1XfqNJnIwHP",
        "outputId": "abc388fe-9ff7-425e-f0e0-c80eae3ba0da"
      },
      "execution_count": 58,
      "outputs": [
        {
          "output_type": "execute_result",
          "data": {
            "text/plain": [
              "10000"
            ]
          },
          "metadata": {},
          "execution_count": 58
        }
      ]
    },
    {
      "cell_type": "code",
      "source": [
        "input_shape = X[0].shape"
      ],
      "metadata": {
        "id": "C83WDC1BAvhg"
      },
      "execution_count": 59,
      "outputs": []
    },
    {
      "cell_type": "code",
      "source": [
        "input_shape"
      ],
      "metadata": {
        "colab": {
          "base_uri": "https://localhost:8080/"
        },
        "id": "vhIPkUXOI1L3",
        "outputId": "bae22471-7c51-45c3-d75e-f4bb07407125"
      },
      "execution_count": 60,
      "outputs": [
        {
          "output_type": "execute_result",
          "data": {
            "text/plain": [
              "(784,)"
            ]
          },
          "metadata": {},
          "execution_count": 60
        }
      ]
    },
    {
      "cell_type": "code",
      "source": [
        "import tensorflow as tf"
      ],
      "metadata": {
        "id": "5XORWTdx8V8W"
      },
      "execution_count": 24,
      "outputs": []
    },
    {
      "cell_type": "code",
      "source": [
        "dataset = tf.data.Dataset.from_tensor_slices((X, y))\n",
        "dataset = dataset.cache()\n",
        "dataset = dataset.batch(16)\n",
        "dataset = dataset.prefetch(8)"
      ],
      "metadata": {
        "id": "U-Yb4ukP8XAK"
      },
      "execution_count": 63,
      "outputs": []
    },
    {
      "cell_type": "code",
      "source": [
        "train = dataset.take(int(len(dataset)*0.7))\n",
        "val = dataset.skip(int(len(dataset)*0.7)).take(int(len(dataset)*0.2))\n",
        "test = dataset.skip(int(len(dataset)*0.9)).take(int(len(dataset)*0.1))"
      ],
      "metadata": {
        "id": "SKBwKlqx9TxV"
      },
      "execution_count": 64,
      "outputs": []
    },
    {
      "cell_type": "code",
      "source": [
        "model = tf.keras.Sequential([\n",
        "    tf.keras.layers.Dense(64, input_shape=input_shape, activation='relu'),\n",
        "    tf.keras.layers.Dense(256, activation='relu'),\n",
        "    tf.keras.layers.Dense(128, activation='relu'),\n",
        "    tf.keras.layers.Dense(10, activation='sigmoid'),\n",
        "])\n",
        "\n",
        "model.compile(loss='SparseCategoricalCrossentropy', optimizer='adam', metrics=['accuracy'])"
      ],
      "metadata": {
        "id": "R8HShxHg90oa"
      },
      "execution_count": 65,
      "outputs": []
    },
    {
      "cell_type": "code",
      "source": [
        "model.fit(train, epochs=20, validation_data=val)"
      ],
      "metadata": {
        "colab": {
          "base_uri": "https://localhost:8080/"
        },
        "id": "lur7TroRAMxH",
        "outputId": "ca96ac3e-9f51-430f-87a0-11013a17faf5"
      },
      "execution_count": 66,
      "outputs": [
        {
          "output_type": "stream",
          "name": "stdout",
          "text": [
            "Epoch 1/20\n",
            "437/437 [==============================] - 2s 4ms/step - loss: 0.7710 - accuracy: 0.7177 - val_loss: 0.5547 - val_accuracy: 0.8145\n",
            "Epoch 2/20\n",
            "437/437 [==============================] - 1s 3ms/step - loss: 0.5092 - accuracy: 0.8189 - val_loss: 0.5038 - val_accuracy: 0.8270\n",
            "Epoch 3/20\n",
            "437/437 [==============================] - 1s 3ms/step - loss: 0.4473 - accuracy: 0.8408 - val_loss: 0.4577 - val_accuracy: 0.8415\n",
            "Epoch 4/20\n",
            "437/437 [==============================] - 2s 3ms/step - loss: 0.4082 - accuracy: 0.8543 - val_loss: 0.4460 - val_accuracy: 0.8455\n",
            "Epoch 5/20\n",
            "437/437 [==============================] - 2s 3ms/step - loss: 0.3748 - accuracy: 0.8638 - val_loss: 0.4233 - val_accuracy: 0.8455\n",
            "Epoch 6/20\n",
            "437/437 [==============================] - 2s 3ms/step - loss: 0.3543 - accuracy: 0.8714 - val_loss: 0.4360 - val_accuracy: 0.8430\n",
            "Epoch 7/20\n",
            "437/437 [==============================] - 1s 3ms/step - loss: 0.3351 - accuracy: 0.8769 - val_loss: 0.4202 - val_accuracy: 0.8515\n",
            "Epoch 8/20\n",
            "437/437 [==============================] - 2s 3ms/step - loss: 0.3172 - accuracy: 0.8817 - val_loss: 0.4497 - val_accuracy: 0.8430\n",
            "Epoch 9/20\n",
            "437/437 [==============================] - 1s 3ms/step - loss: 0.2968 - accuracy: 0.8873 - val_loss: 0.4621 - val_accuracy: 0.8420\n",
            "Epoch 10/20\n",
            "437/437 [==============================] - 1s 3ms/step - loss: 0.2778 - accuracy: 0.8939 - val_loss: 0.4510 - val_accuracy: 0.8525\n",
            "Epoch 11/20\n",
            "437/437 [==============================] - 1s 3ms/step - loss: 0.2704 - accuracy: 0.8960 - val_loss: 0.4995 - val_accuracy: 0.8430\n",
            "Epoch 12/20\n",
            "437/437 [==============================] - 1s 3ms/step - loss: 0.2603 - accuracy: 0.9003 - val_loss: 0.4465 - val_accuracy: 0.8480\n",
            "Epoch 13/20\n",
            "437/437 [==============================] - 2s 4ms/step - loss: 0.2421 - accuracy: 0.9060 - val_loss: 0.4937 - val_accuracy: 0.8500\n",
            "Epoch 14/20\n",
            "437/437 [==============================] - 1s 3ms/step - loss: 0.2260 - accuracy: 0.9143 - val_loss: 0.5819 - val_accuracy: 0.8365\n",
            "Epoch 15/20\n",
            "437/437 [==============================] - 1s 3ms/step - loss: 0.2284 - accuracy: 0.9125 - val_loss: 0.5275 - val_accuracy: 0.8330\n",
            "Epoch 16/20\n",
            "437/437 [==============================] - 2s 3ms/step - loss: 0.2045 - accuracy: 0.9170 - val_loss: 0.5502 - val_accuracy: 0.8570\n",
            "Epoch 17/20\n",
            "437/437 [==============================] - 1s 3ms/step - loss: 0.2048 - accuracy: 0.9189 - val_loss: 0.5779 - val_accuracy: 0.8505\n",
            "Epoch 18/20\n",
            "437/437 [==============================] - 2s 3ms/step - loss: 0.1900 - accuracy: 0.9236 - val_loss: 0.6331 - val_accuracy: 0.8515\n",
            "Epoch 19/20\n",
            "437/437 [==============================] - 2s 4ms/step - loss: 0.1815 - accuracy: 0.9292 - val_loss: 0.6068 - val_accuracy: 0.8505\n",
            "Epoch 20/20\n",
            "437/437 [==============================] - 1s 3ms/step - loss: 0.1785 - accuracy: 0.9296 - val_loss: 0.5981 - val_accuracy: 0.8525\n"
          ]
        },
        {
          "output_type": "execute_result",
          "data": {
            "text/plain": [
              "<keras.callbacks.History at 0x7f0131001ca0>"
            ]
          },
          "metadata": {},
          "execution_count": 66
        }
      ]
    },
    {
      "cell_type": "code",
      "source": [
        "from tensorflow.keras.metrics import CategoricalAccuracy\n",
        "import numpy as np"
      ],
      "metadata": {
        "id": "gLNWcXViBxtA"
      },
      "execution_count": 78,
      "outputs": []
    },
    {
      "cell_type": "code",
      "source": [
        "from tensorflow.python.ops.gen_array_ops import expand_dims\n",
        "X_true, y_true = test.as_numpy_iterator().next()\n",
        "yhat = (model.predict(X_true))\n",
        "yhat"
      ],
      "metadata": {
        "colab": {
          "base_uri": "https://localhost:8080/"
        },
        "id": "yHy1QOy7RF06",
        "outputId": "64458ac6-1844-4794-ef12-5a5a96f88c92"
      },
      "execution_count": 114,
      "outputs": [
        {
          "output_type": "stream",
          "name": "stdout",
          "text": [
            "1/1 [==============================] - 0s 21ms/step\n"
          ]
        },
        {
          "output_type": "execute_result",
          "data": {
            "text/plain": [
              "array([[1.00533676e-03, 3.16790210e-05, 3.88944085e-04, 1.06447951e-04,\n",
              "        3.02926055e-04, 9.99610364e-01, 8.72119889e-03, 3.20793577e-02,\n",
              "        1.05271407e-03, 1.99028589e-02],\n",
              "       [3.00545110e-11, 1.00000000e+00, 4.39629321e-06, 1.43336505e-03,\n",
              "        1.14605682e-05, 1.73190099e-14, 1.19494635e-03, 3.24469699e-13,\n",
              "        5.73717582e-04, 1.35447443e-11],\n",
              "       [5.68606119e-05, 2.07634497e-04, 7.94066545e-06, 1.32175777e-02,\n",
              "        1.23332342e-04, 3.51639897e-01, 6.08938244e-05, 9.98447359e-01,\n",
              "        1.15190260e-03, 1.39973103e-03],\n",
              "       [1.64709270e-01, 1.79499213e-04, 9.99254942e-01, 3.00216824e-01,\n",
              "        3.17371339e-02, 7.54821167e-06, 7.47432590e-01, 2.96452095e-06,\n",
              "        1.14693178e-03, 3.70811244e-06],\n",
              "       [1.80125353e-04, 1.08768954e-03, 2.85707472e-04, 3.59687809e-04,\n",
              "        6.87702978e-03, 2.63146400e-01, 2.80288747e-04, 9.95473742e-01,\n",
              "        5.12334071e-02, 9.86275434e-01],\n",
              "       [1.00938860e-05, 1.00000000e+00, 4.53793400e-05, 1.85418352e-02,\n",
              "        6.40155986e-06, 8.43576806e-11, 1.10170804e-01, 2.41764553e-10,\n",
              "        7.79951573e-04, 7.41656250e-11],\n",
              "       [1.63020995e-05, 4.57187358e-04, 1.46398706e-05, 5.82171087e-05,\n",
              "        1.53624790e-03, 1.75207660e-01, 5.45052208e-05, 9.99622345e-01,\n",
              "        2.15297379e-02, 9.84116852e-01],\n",
              "       [2.19874073e-13, 1.00000000e+00, 9.02043951e-08, 7.04468766e-05,\n",
              "        2.27072434e-07, 2.06715413e-16, 8.19021603e-04, 3.98871288e-15,\n",
              "        2.01914285e-04, 7.86665611e-12],\n",
              "       [6.14024000e-03, 6.21206919e-03, 6.35400834e-03, 2.77782441e-03,\n",
              "        7.36868475e-03, 5.91044843e-01, 4.16322611e-03, 2.51553535e-01,\n",
              "        1.24423347e-01, 9.80808139e-01],\n",
              "       [9.84763959e-04, 6.47137349e-04, 9.96167302e-01, 1.26523282e-02,\n",
              "        9.96178091e-01, 6.13246868e-07, 8.26370060e-01, 2.64079472e-06,\n",
              "        1.75526680e-03, 2.24142877e-05],\n",
              "       [5.34717742e-07, 5.87391500e-26, 1.78492828e-11, 6.30487494e-24,\n",
              "        1.87171087e-17, 1.00000000e+00, 7.46768713e-03, 2.50455069e-16,\n",
              "        3.40241786e-17, 1.70217220e-13],\n",
              "       [3.70095992e-18, 1.00000000e+00, 3.42306605e-09, 1.44244680e-07,\n",
              "        1.22280375e-09, 1.03218461e-22, 4.86567333e-05, 4.72291493e-21,\n",
              "        2.67553241e-05, 5.33540865e-16],\n",
              "       [5.33911325e-02, 3.16376395e-06, 9.99631763e-01, 5.37222892e-04,\n",
              "        9.96674836e-01, 1.19821280e-07, 9.44190562e-01, 2.22994920e-08,\n",
              "        1.14269940e-04, 1.98031927e-07],\n",
              "       [1.98394079e-02, 8.75856102e-01, 1.90154433e-01, 6.81713283e-01,\n",
              "        1.60824597e-01, 9.57214943e-05, 6.28081679e-01, 2.39139972e-05,\n",
              "        9.43900365e-03, 2.61056339e-05],\n",
              "       [6.87248480e-09, 2.11187761e-08, 1.78397708e-09, 5.00903374e-10,\n",
              "        1.34884402e-07, 9.93158937e-01, 3.47613778e-08, 1.08203776e-02,\n",
              "        7.46262822e-06, 9.99999821e-01],\n",
              "       [9.99561131e-01, 3.29990668e-04, 8.13961998e-02, 2.21566204e-02,\n",
              "        1.85663012e-07, 1.53613073e-04, 9.67877746e-01, 9.51794391e-07,\n",
              "        1.40786988e-05, 1.10309247e-06]], dtype=float32)"
            ]
          },
          "metadata": {},
          "execution_count": 114
        }
      ]
    },
    {
      "cell_type": "code",
      "source": [
        "batch = test.as_numpy_iterator().next()\n",
        "X_true, y_true = batch\n",
        "yhat = model.predict(X_true)\n",
        "hold = [np.argmax(y) for y in yhat]\n",
        "temp = []\n",
        "for y in yhat:\n",
        "  y = np.argmax(y)\n",
        "  temp.append(y)\n",
        "# print(temp)\n",
        "print(y_true)\n",
        "print(np.array(hold))"
      ],
      "metadata": {
        "colab": {
          "base_uri": "https://localhost:8080/"
        },
        "id": "qr4FH2EYiPnp",
        "outputId": "281a86fe-d2c2-4640-bfde-0f26452f43a9"
      },
      "execution_count": 132,
      "outputs": [
        {
          "output_type": "stream",
          "name": "stdout",
          "text": [
            "1/1 [==============================] - 0s 19ms/step\n",
            "[5 1 7 2 7 1 7 1 9 2 5 1 2 4 9 0]\n",
            "[5 1 7 2 7 1 7 1 9 4 5 1 2 1 9 0]\n"
          ]
        }
      ]
    },
    {
      "cell_type": "code",
      "source": [
        "acc = CategoricalAccuracy()\n",
        "for batch in test.as_numpy_iterator():\n",
        "  X_true, y_true = batch\n",
        "  yhat = model.predict(X_true)\n",
        "  yhat = [np.argmax(y) for y in yhat]\n",
        "  yhat = np.array(yhat)\n",
        "  y_true = y_true.flatten()\n",
        "  yhat = yhat.flatten()\n",
        "  acc.update_state(y_true, yhat)\n",
        "print(acc.result().numpy())\n"
      ],
      "metadata": {
        "colab": {
          "base_uri": "https://localhost:8080/"
        },
        "id": "4Wcz7GYhCt7O",
        "outputId": "3180925e-c24d-4ad0-efd6-ddf5fe892cc2"
      },
      "execution_count": 133,
      "outputs": [
        {
          "output_type": "stream",
          "name": "stdout",
          "text": [
            "1/1 [==============================] - 0s 18ms/step\n",
            "1/1 [==============================] - 0s 18ms/step\n",
            "1/1 [==============================] - 0s 22ms/step\n",
            "1/1 [==============================] - 0s 19ms/step\n",
            "1/1 [==============================] - 0s 25ms/step\n",
            "1/1 [==============================] - 0s 19ms/step\n",
            "1/1 [==============================] - 0s 20ms/step\n",
            "1/1 [==============================] - 0s 19ms/step\n",
            "1/1 [==============================] - 0s 18ms/step\n",
            "1/1 [==============================] - 0s 18ms/step\n",
            "1/1 [==============================] - 0s 18ms/step\n",
            "1/1 [==============================] - 0s 18ms/step\n",
            "1/1 [==============================] - 0s 22ms/step\n",
            "1/1 [==============================] - 0s 18ms/step\n",
            "1/1 [==============================] - 0s 20ms/step\n",
            "1/1 [==============================] - 0s 20ms/step\n",
            "1/1 [==============================] - 0s 19ms/step\n",
            "1/1 [==============================] - 0s 19ms/step\n",
            "1/1 [==============================] - 0s 19ms/step\n",
            "1/1 [==============================] - 0s 21ms/step\n",
            "1/1 [==============================] - 0s 18ms/step\n",
            "1/1 [==============================] - 0s 22ms/step\n",
            "1/1 [==============================] - 0s 20ms/step\n",
            "1/1 [==============================] - 0s 20ms/step\n",
            "1/1 [==============================] - 0s 18ms/step\n",
            "1/1 [==============================] - 0s 19ms/step\n",
            "1/1 [==============================] - 0s 22ms/step\n",
            "1/1 [==============================] - 0s 19ms/step\n",
            "1/1 [==============================] - 0s 22ms/step\n",
            "1/1 [==============================] - 0s 17ms/step\n",
            "1/1 [==============================] - 0s 19ms/step\n",
            "1/1 [==============================] - 0s 19ms/step\n",
            "1/1 [==============================] - 0s 18ms/step\n",
            "1/1 [==============================] - 0s 19ms/step\n",
            "1/1 [==============================] - 0s 19ms/step\n",
            "1/1 [==============================] - 0s 19ms/step\n",
            "1/1 [==============================] - 0s 20ms/step\n",
            "1/1 [==============================] - 0s 22ms/step\n",
            "1/1 [==============================] - 0s 21ms/step\n",
            "1/1 [==============================] - 0s 21ms/step\n",
            "1/1 [==============================] - 0s 18ms/step\n",
            "1/1 [==============================] - 0s 17ms/step\n",
            "1/1 [==============================] - 0s 24ms/step\n",
            "1/1 [==============================] - 0s 18ms/step\n",
            "1/1 [==============================] - 0s 20ms/step\n",
            "1/1 [==============================] - 0s 19ms/step\n",
            "1/1 [==============================] - 0s 21ms/step\n",
            "1/1 [==============================] - 0s 18ms/step\n",
            "1/1 [==============================] - 0s 22ms/step\n",
            "1/1 [==============================] - 0s 18ms/step\n",
            "1/1 [==============================] - 0s 19ms/step\n",
            "1/1 [==============================] - 0s 29ms/step\n",
            "1/1 [==============================] - 0s 18ms/step\n",
            "1/1 [==============================] - 0s 22ms/step\n",
            "1/1 [==============================] - 0s 19ms/step\n",
            "1/1 [==============================] - 0s 19ms/step\n",
            "1/1 [==============================] - 0s 19ms/step\n",
            "1/1 [==============================] - 0s 18ms/step\n",
            "1/1 [==============================] - 0s 21ms/step\n",
            "1/1 [==============================] - 0s 19ms/step\n",
            "1/1 [==============================] - 0s 28ms/step\n",
            "1/1 [==============================] - 0s 18ms/step\n",
            "0.88709676\n"
          ]
        }
      ]
    },
    {
      "cell_type": "code",
      "source": [],
      "metadata": {
        "id": "YZL2w4HxDogk"
      },
      "execution_count": null,
      "outputs": []
    }
  ]
}